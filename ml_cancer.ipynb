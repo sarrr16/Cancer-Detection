{
 "cells": [
  {
   "cell_type": "code",
   "execution_count": 202,
   "metadata": {},
   "outputs": [],
   "source": [
    "import pandas as pd\n",
    "import numpy as np"
   ]
  },
  {
   "cell_type": "code",
   "execution_count": 203,
   "metadata": {},
   "outputs": [],
   "source": [
    "dataset = pd.read_csv(r\"D:\\.vscode\\Python\\csv\\cervical_cancer.csv\")"
   ]
  },
  {
   "cell_type": "code",
   "execution_count": 204,
   "metadata": {},
   "outputs": [
    {
     "name": "stdout",
     "output_type": "stream",
     "text": [
      "   Age Number of sexual partners First sexual intercourse Num of pregnancies  \\\n",
      "0   18                       4.0                     15.0                1.0   \n",
      "1   15                       1.0                     14.0                1.0   \n",
      "2   34                       1.0                        ?                1.0   \n",
      "3   52                       5.0                     16.0                4.0   \n",
      "\n",
      "  Smokes Smokes (years) Smokes (packs/year) Hormonal Contraceptives  \\\n",
      "0    0.0            0.0                 0.0                     0.0   \n",
      "1    0.0            0.0                 0.0                     0.0   \n",
      "2    0.0            0.0                 0.0                     0.0   \n",
      "3    1.0           37.0                37.0                     1.0   \n",
      "\n",
      "  Hormonal Contraceptives (years)  IUD  ... STDs: Time since first diagnosis  \\\n",
      "0                             0.0  0.0  ...                                ?   \n",
      "1                             0.0  0.0  ...                                ?   \n",
      "2                             0.0  0.0  ...                                ?   \n",
      "3                             3.0  0.0  ...                                ?   \n",
      "\n",
      "  STDs: Time since last diagnosis Dx:Cancer Dx:CIN Dx:HPV Dx Hinselmann  \\\n",
      "0                               ?         0      0      0  0          0   \n",
      "1                               ?         0      0      0  0          0   \n",
      "2                               ?         0      0      0  0          0   \n",
      "3                               ?         1      0      1  0          0   \n",
      "\n",
      "  Schiller Citology Biopsy  \n",
      "0        0        0      0  \n",
      "1        0        0      0  \n",
      "2        0        0      0  \n",
      "3        0        0      0  \n",
      "\n",
      "[4 rows x 36 columns]\n",
      "(858, 36)\n"
     ]
    }
   ],
   "source": [
    "print(dataset.head(4))\n",
    "print(dataset.shape)"
   ]
  },
  {
   "cell_type": "code",
   "execution_count": 205,
   "metadata": {},
   "outputs": [
    {
     "name": "stdout",
     "output_type": "stream",
     "text": [
      "              Age  STDs: Number of diagnosis   Dx:Cancer      Dx:CIN  \\\n",
      "count  858.000000                 858.000000  858.000000  858.000000   \n",
      "mean    26.820513                   0.087413    0.020979    0.010490   \n",
      "std      8.497948                   0.302545    0.143398    0.101939   \n",
      "min     13.000000                   0.000000    0.000000    0.000000   \n",
      "25%     20.000000                   0.000000    0.000000    0.000000   \n",
      "50%     25.000000                   0.000000    0.000000    0.000000   \n",
      "75%     32.000000                   0.000000    0.000000    0.000000   \n",
      "max     84.000000                   3.000000    1.000000    1.000000   \n",
      "\n",
      "           Dx:HPV          Dx  Hinselmann    Schiller    Citology      Biopsy  \n",
      "count  858.000000  858.000000  858.000000  858.000000  858.000000  858.000000  \n",
      "mean     0.020979    0.027972    0.040793    0.086247    0.051282    0.064103  \n",
      "std      0.143398    0.164989    0.197925    0.280892    0.220701    0.245078  \n",
      "min      0.000000    0.000000    0.000000    0.000000    0.000000    0.000000  \n",
      "25%      0.000000    0.000000    0.000000    0.000000    0.000000    0.000000  \n",
      "50%      0.000000    0.000000    0.000000    0.000000    0.000000    0.000000  \n",
      "75%      0.000000    0.000000    0.000000    0.000000    0.000000    0.000000  \n",
      "max      1.000000    1.000000    1.000000    1.000000    1.000000    1.000000  \n"
     ]
    }
   ],
   "source": [
    "print(dataset.describe())\n",
    "dataset = dataset.apply(pd.to_numeric, errors='coerce')"
   ]
  },
  {
   "cell_type": "code",
   "execution_count": 206,
   "metadata": {},
   "outputs": [],
   "source": [
    "dataset.replace(to_replace=\"?\", value=np.NaN, inplace=True)"
   ]
  },
  {
   "cell_type": "code",
   "execution_count": 207,
   "metadata": {},
   "outputs": [
    {
     "data": {
      "text/plain": [
       "Age                                     0\n",
       "Number of sexual partners              26\n",
       "First sexual intercourse                7\n",
       "Num of pregnancies                     56\n",
       "Smokes                                 13\n",
       "Smokes (years)                         13\n",
       "Smokes (packs/year)                    13\n",
       "Hormonal Contraceptives               108\n",
       "Hormonal Contraceptives (years)       108\n",
       "IUD                                   117\n",
       "IUD (years)                           117\n",
       "STDs                                  105\n",
       "STDs (number)                         105\n",
       "STDs:condylomatosis                   105\n",
       "STDs:cervical condylomatosis          105\n",
       "STDs:vaginal condylomatosis           105\n",
       "STDs:vulvo-perineal condylomatosis    105\n",
       "STDs:syphilis                         105\n",
       "STDs:pelvic inflammatory disease      105\n",
       "STDs:genital herpes                   105\n",
       "STDs:molluscum contagiosum            105\n",
       "STDs:AIDS                             105\n",
       "STDs:HIV                              105\n",
       "STDs:Hepatitis B                      105\n",
       "STDs:HPV                              105\n",
       "STDs: Number of diagnosis               0\n",
       "STDs: Time since first diagnosis      787\n",
       "STDs: Time since last diagnosis       787\n",
       "Dx:Cancer                               0\n",
       "Dx:CIN                                  0\n",
       "Dx:HPV                                  0\n",
       "Dx                                      0\n",
       "Hinselmann                              0\n",
       "Schiller                                0\n",
       "Citology                                0\n",
       "Biopsy                                  0\n",
       "dtype: int64"
      ]
     },
     "execution_count": 207,
     "metadata": {},
     "output_type": "execute_result"
    }
   ],
   "source": [
    "dataset.isna().sum()"
   ]
  },
  {
   "cell_type": "code",
   "execution_count": 208,
   "metadata": {},
   "outputs": [
    {
     "name": "stdout",
     "output_type": "stream",
     "text": [
      "<class 'pandas.core.frame.DataFrame'>\n",
      "RangeIndex: 858 entries, 0 to 857\n",
      "Data columns (total 36 columns):\n",
      " #   Column                              Non-Null Count  Dtype  \n",
      "---  ------                              --------------  -----  \n",
      " 0   Age                                 858 non-null    int64  \n",
      " 1   Number of sexual partners           832 non-null    float64\n",
      " 2   First sexual intercourse            851 non-null    float64\n",
      " 3   Num of pregnancies                  802 non-null    float64\n",
      " 4   Smokes                              845 non-null    float64\n",
      " 5   Smokes (years)                      845 non-null    float64\n",
      " 6   Smokes (packs/year)                 845 non-null    float64\n",
      " 7   Hormonal Contraceptives             750 non-null    float64\n",
      " 8   Hormonal Contraceptives (years)     750 non-null    float64\n",
      " 9   IUD                                 741 non-null    float64\n",
      " 10  IUD (years)                         741 non-null    float64\n",
      " 11  STDs                                753 non-null    float64\n",
      " 12  STDs (number)                       753 non-null    float64\n",
      " 13  STDs:condylomatosis                 753 non-null    float64\n",
      " 14  STDs:cervical condylomatosis        753 non-null    float64\n",
      " 15  STDs:vaginal condylomatosis         753 non-null    float64\n",
      " 16  STDs:vulvo-perineal condylomatosis  753 non-null    float64\n",
      " 17  STDs:syphilis                       753 non-null    float64\n",
      " 18  STDs:pelvic inflammatory disease    753 non-null    float64\n",
      " 19  STDs:genital herpes                 753 non-null    float64\n",
      " 20  STDs:molluscum contagiosum          753 non-null    float64\n",
      " 21  STDs:AIDS                           753 non-null    float64\n",
      " 22  STDs:HIV                            753 non-null    float64\n",
      " 23  STDs:Hepatitis B                    753 non-null    float64\n",
      " 24  STDs:HPV                            753 non-null    float64\n",
      " 25  STDs: Number of diagnosis           858 non-null    int64  \n",
      " 26  STDs: Time since first diagnosis    71 non-null     float64\n",
      " 27  STDs: Time since last diagnosis     71 non-null     float64\n",
      " 28  Dx:Cancer                           858 non-null    int64  \n",
      " 29  Dx:CIN                              858 non-null    int64  \n",
      " 30  Dx:HPV                              858 non-null    int64  \n",
      " 31  Dx                                  858 non-null    int64  \n",
      " 32  Hinselmann                          858 non-null    int64  \n",
      " 33  Schiller                            858 non-null    int64  \n",
      " 34  Citology                            858 non-null    int64  \n",
      " 35  Biopsy                              858 non-null    int64  \n",
      "dtypes: float64(26), int64(10)\n",
      "memory usage: 241.4 KB\n"
     ]
    }
   ],
   "source": [
    "dataset.info()"
   ]
  },
  {
   "cell_type": "code",
   "execution_count": 209,
   "metadata": {},
   "outputs": [],
   "source": [
    "null_cols = ['Number of sexual partners', 'Num of pregnancies', \n",
    "             'Smokes', 'Smokes (years)', 'Smokes (packs/year)', 'First sexual intercourse','STDs (number)','IUD (years)','Hormonal Contraceptives (years)']\n",
    "mode_null = ['IUD','STDs','STDs:HPV','STDs:Hepatitis B','STDs:HIV','STDs:AIDS','STDs:molluscum contagiosum',\n",
    "             'STDs:genital herpes','STDs:pelvic inflammatory disease','STDs:syphilis','STDs:vulvo-perineal condylomatosis',\n",
    "            'STDs:vaginal condylomatosis','STDs:condylomatosis']\n",
    "df1 = dataset[null_cols].fillna(dataset[null_cols].mean())\n",
    "df2 = dataset[mode_null].apply(lambda x: x.fillna(x.mode().iloc[0]) if not x.mode().empty else x)\n",
    "dataset = pd.concat([df1, df2], axis=1)"
   ]
  },
  {
   "cell_type": "code",
   "execution_count": null,
   "metadata": {},
   "outputs": [],
   "source": []
  }
 ],
 "metadata": {
  "kernelspec": {
   "display_name": "Python 3",
   "language": "python",
   "name": "python3"
  },
  "language_info": {
   "codemirror_mode": {
    "name": "ipython",
    "version": 3
   },
   "file_extension": ".py",
   "mimetype": "text/x-python",
   "name": "python",
   "nbconvert_exporter": "python",
   "pygments_lexer": "ipython3",
   "version": "3.12.4"
  }
 },
 "nbformat": 4,
 "nbformat_minor": 2
}
